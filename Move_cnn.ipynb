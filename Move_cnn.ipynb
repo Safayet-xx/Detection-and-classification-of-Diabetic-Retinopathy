{
 "cells": [
  {
   "cell_type": "code",
   "execution_count": 1,
   "metadata": {},
   "outputs": [
    {
     "name": "stderr",
     "output_type": "stream",
     "text": [
      "2023-10-27 21:50:58.305221: E tensorflow/compiler/xla/stream_executor/cuda/cuda_dnn.cc:9342] Unable to register cuDNN factory: Attempting to register factory for plugin cuDNN when one has already been registered\n",
      "2023-10-27 21:50:58.305252: E tensorflow/compiler/xla/stream_executor/cuda/cuda_fft.cc:609] Unable to register cuFFT factory: Attempting to register factory for plugin cuFFT when one has already been registered\n",
      "2023-10-27 21:50:58.306580: E tensorflow/compiler/xla/stream_executor/cuda/cuda_blas.cc:1518] Unable to register cuBLAS factory: Attempting to register factory for plugin cuBLAS when one has already been registered\n",
      "2023-10-27 21:50:58.395153: I tensorflow/core/platform/cpu_feature_guard.cc:182] This TensorFlow binary is optimized to use available CPU instructions in performance-critical operations.\n",
      "To enable the following instructions: AVX2 FMA, in other operations, rebuild TensorFlow with the appropriate compiler flags.\n",
      "2023-10-27 21:50:59.511672: W tensorflow/compiler/tf2tensorrt/utils/py_utils.cc:38] TF-TRT Warning: Could not find TensorRT\n"
     ]
    }
   ],
   "source": [
    "from keras.preprocessing.image import ImageDataGenerator\n",
    "from keras.layers import Conv2D, MaxPooling2D, Flatten, Dense, Dropout, InputLayer\n",
    "from keras.models import Sequential\n",
    "from keras.applications.resnet50 import ResNet50\n",
    "from keras import optimizers\n",
    "from sklearn.datasets import make_blobs\n",
    "from keras.utils import to_categorical\n",
    "from keras.models import Sequential\n",
    "from keras.layers import Dense\n",
    "from matplotlib import pyplot\n",
    "from os import makedirs\n",
    "from keras.callbacks import ModelCheckpoint\n",
    "from keras.models import Model\n",
    "import keras\n",
    "from keras.layers import Conv2D, MaxPooling2D, Flatten, Dense, Dropout, Input, InputLayer, BatchNormalization\n",
    "from keras.models import Sequential\n",
    "from keras import optimizers"
   ]
  },
  {
   "cell_type": "code",
   "execution_count": 2,
   "metadata": {},
   "outputs": [
    {
     "name": "stderr",
     "output_type": "stream",
     "text": [
      "2023-10-27 21:51:01.494024: I tensorflow/compiler/xla/stream_executor/cuda/cuda_gpu_executor.cc:894] successful NUMA node read from SysFS had negative value (-1), but there must be at least one NUMA node, so returning NUMA node zero. See more at https://github.com/torvalds/linux/blob/v6.0/Documentation/ABI/testing/sysfs-bus-pci#L344-L355\n",
      "2023-10-27 21:51:01.601057: I tensorflow/compiler/xla/stream_executor/cuda/cuda_gpu_executor.cc:894] successful NUMA node read from SysFS had negative value (-1), but there must be at least one NUMA node, so returning NUMA node zero. See more at https://github.com/torvalds/linux/blob/v6.0/Documentation/ABI/testing/sysfs-bus-pci#L344-L355\n",
      "2023-10-27 21:51:01.601331: I tensorflow/compiler/xla/stream_executor/cuda/cuda_gpu_executor.cc:894] successful NUMA node read from SysFS had negative value (-1), but there must be at least one NUMA node, so returning NUMA node zero. See more at https://github.com/torvalds/linux/blob/v6.0/Documentation/ABI/testing/sysfs-bus-pci#L344-L355\n",
      "2023-10-27 21:51:01.602623: I tensorflow/compiler/xla/stream_executor/cuda/cuda_gpu_executor.cc:894] successful NUMA node read from SysFS had negative value (-1), but there must be at least one NUMA node, so returning NUMA node zero. See more at https://github.com/torvalds/linux/blob/v6.0/Documentation/ABI/testing/sysfs-bus-pci#L344-L355\n",
      "2023-10-27 21:51:01.602843: I tensorflow/compiler/xla/stream_executor/cuda/cuda_gpu_executor.cc:894] successful NUMA node read from SysFS had negative value (-1), but there must be at least one NUMA node, so returning NUMA node zero. See more at https://github.com/torvalds/linux/blob/v6.0/Documentation/ABI/testing/sysfs-bus-pci#L344-L355\n",
      "2023-10-27 21:51:01.603051: I tensorflow/compiler/xla/stream_executor/cuda/cuda_gpu_executor.cc:894] successful NUMA node read from SysFS had negative value (-1), but there must be at least one NUMA node, so returning NUMA node zero. See more at https://github.com/torvalds/linux/blob/v6.0/Documentation/ABI/testing/sysfs-bus-pci#L344-L355\n",
      "2023-10-27 21:51:01.795689: I tensorflow/compiler/xla/stream_executor/cuda/cuda_gpu_executor.cc:894] successful NUMA node read from SysFS had negative value (-1), but there must be at least one NUMA node, so returning NUMA node zero. See more at https://github.com/torvalds/linux/blob/v6.0/Documentation/ABI/testing/sysfs-bus-pci#L344-L355\n",
      "2023-10-27 21:51:01.795986: I tensorflow/compiler/xla/stream_executor/cuda/cuda_gpu_executor.cc:894] successful NUMA node read from SysFS had negative value (-1), but there must be at least one NUMA node, so returning NUMA node zero. See more at https://github.com/torvalds/linux/blob/v6.0/Documentation/ABI/testing/sysfs-bus-pci#L344-L355\n",
      "2023-10-27 21:51:01.796204: I tensorflow/compiler/xla/stream_executor/cuda/cuda_gpu_executor.cc:894] successful NUMA node read from SysFS had negative value (-1), but there must be at least one NUMA node, so returning NUMA node zero. See more at https://github.com/torvalds/linux/blob/v6.0/Documentation/ABI/testing/sysfs-bus-pci#L344-L355\n",
      "2023-10-27 21:51:01.796362: I tensorflow/core/common_runtime/gpu/gpu_device.cc:1886] Created device /job:localhost/replica:0/task:0/device:GPU:0 with 834 MB memory:  -> device: 0, name: NVIDIA GeForce GTX 1660 SUPER, pci bus id: 0000:26:00.0, compute capability: 7.5\n"
     ]
    }
   ],
   "source": [
    "        model = Sequential()\n",
    "\n",
    "        # convolutional layer\n",
    "        model.add(Conv2D(50, kernel_size=(3,3), strides=(1,1), padding='same', activation='relu', input_shape=(28, 28, 1)))\n",
    "\n",
    "        # convolutional layer\n",
    "        model.add(Conv2D(75, kernel_size=(3,3), strides=(1,1), padding='same', activation='relu'))\n",
    "        model.add(MaxPooling2D(pool_size=(2,2)))\n",
    "\n",
    "\n",
    "        model.add(Conv2D(125, kernel_size=(3,3), strides=(1,1), padding='same', activation='relu'))\n",
    "        model.add(MaxPooling2D(pool_size=(2,2)))\n",
    "\n",
    "\n",
    "        model.add(Conv2D(175, kernel_size=(3,3), strides=(1,1), padding='same', activation='relu'))\n",
    "        model.add(MaxPooling2D(pool_size=(2,2)))\n",
    "\n",
    "\n",
    "        model.add(Conv2D(225, kernel_size=(3,3), strides=(1,1), padding='same', activation='relu'))\n",
    "        model.add(MaxPooling2D(pool_size=(2,2)))\n",
    "#         model.add(Dropout(0.25))\n",
    "\n",
    "        # flatten output of conv\n",
    "        model.add(Flatten())\n",
    "\n",
    "        # hidden layer\n",
    "        model.add(Dense(4096, activation='relu'))\n",
    "        model.add(Dropout(0.5))\n",
    "        model.add(Dense(2048, activation='relu'))\n",
    "        model.add(Dropout(0.3))\n",
    "        model.add(Dense(5, activation='softmax'))"
   ]
  },
  {
   "cell_type": "code",
   "execution_count": 3,
   "metadata": {},
   "outputs": [
    {
     "name": "stdout",
     "output_type": "stream",
     "text": [
      "Found 24573 images belonging to 5 classes.\n",
      "Found 3516 images belonging to 5 classes.\n"
     ]
    }
   ],
   "source": [
    "train_datagen = ImageDataGenerator(rescale=1.0/255, rotation_range = 10, height_shift_range = 0.1, width_shift_range=0.1, zoom_range = 0.1)\n",
    "train_images = train_datagen.flow_from_directory('/home/mrroy/Dataset/CLASS/train/',  color_mode = 'grayscale', target_size = (28, 28), batch_size = 32)\n",
    "val_datagen = ImageDataGenerator(rescale=1.0/255)\n",
    "validation_images = val_datagen.flow_from_directory('/home/mrroy/Dataset/CLASS/validation/',  color_mode = 'grayscale', target_size = (28, 28), batch_size = 32)"
   ]
  },
  {
   "cell_type": "code",
   "execution_count": 4,
   "metadata": {},
   "outputs": [
    {
     "name": "stdout",
     "output_type": "stream",
     "text": [
      "Model: \"sequential\"\n",
      "_________________________________________________________________\n",
      " Layer (type)                Output Shape              Param #   \n",
      "=================================================================\n",
      " conv2d (Conv2D)             (None, 28, 28, 50)        500       \n",
      "                                                                 \n",
      " conv2d_1 (Conv2D)           (None, 28, 28, 75)        33825     \n",
      "                                                                 \n",
      " max_pooling2d (MaxPooling2  (None, 14, 14, 75)        0         \n",
      " D)                                                              \n",
      "                                                                 \n",
      " conv2d_2 (Conv2D)           (None, 14, 14, 125)       84500     \n",
      "                                                                 \n",
      " max_pooling2d_1 (MaxPoolin  (None, 7, 7, 125)         0         \n",
      " g2D)                                                            \n",
      "                                                                 \n",
      " conv2d_3 (Conv2D)           (None, 7, 7, 175)         197050    \n",
      "                                                                 \n",
      " max_pooling2d_2 (MaxPoolin  (None, 3, 3, 175)         0         \n",
      " g2D)                                                            \n",
      "                                                                 \n",
      " conv2d_4 (Conv2D)           (None, 3, 3, 225)         354600    \n",
      "                                                                 \n",
      " max_pooling2d_3 (MaxPoolin  (None, 1, 1, 225)         0         \n",
      " g2D)                                                            \n",
      "                                                                 \n",
      " flatten (Flatten)           (None, 225)               0         \n",
      "                                                                 \n",
      " dense (Dense)               (None, 4096)              925696    \n",
      "                                                                 \n",
      " dropout (Dropout)           (None, 4096)              0         \n",
      "                                                                 \n",
      " dense_1 (Dense)             (None, 2048)              8390656   \n",
      "                                                                 \n",
      " dropout_1 (Dropout)         (None, 2048)              0         \n",
      "                                                                 \n",
      " dense_2 (Dense)             (None, 5)                 10245     \n",
      "                                                                 \n",
      "=================================================================\n",
      "Total params: 9997072 (38.14 MB)\n",
      "Trainable params: 9997072 (38.14 MB)\n",
      "Non-trainable params: 0 (0.00 Byte)\n",
      "_________________________________________________________________\n"
     ]
    }
   ],
   "source": [
    "model.summary()"
   ]
  },
  {
   "cell_type": "code",
   "execution_count": 5,
   "metadata": {},
   "outputs": [
    {
     "name": "stderr",
     "output_type": "stream",
     "text": [
      "/tmp/ipykernel_7712/76013245.py:18: UserWarning: `Model.fit_generator` is deprecated and will be removed in a future version. Please use `Model.fit`, which supports generators.\n",
      "  history = model.fit_generator(generator=train_images,\n"
     ]
    },
    {
     "name": "stdout",
     "output_type": "stream",
     "text": [
      "Epoch 1/100\n"
     ]
    },
    {
     "name": "stderr",
     "output_type": "stream",
     "text": [
      "2023-10-27 21:51:03.887689: I tensorflow/compiler/xla/stream_executor/cuda/cuda_dnn.cc:442] Loaded cuDNN version 8600\n",
      "2023-10-27 21:51:05.247262: I tensorflow/compiler/xla/service/service.cc:168] XLA service 0x7f2278039e30 initialized for platform CUDA (this does not guarantee that XLA will be used). Devices:\n",
      "2023-10-27 21:51:05.247290: I tensorflow/compiler/xla/service/service.cc:176]   StreamExecutor device (0): NVIDIA GeForce GTX 1660 SUPER, Compute Capability 7.5\n",
      "2023-10-27 21:51:05.255922: I tensorflow/compiler/mlir/tensorflow/utils/dump_mlir_util.cc:269] disabling MLIR crash reproducer, set env var `MLIR_CRASH_REPRODUCER_DIRECTORY` to enable.\n",
      "2023-10-27 21:51:05.374131: I ./tensorflow/compiler/jit/device_compiler.h:186] Compiled cluster using XLA!  This line is logged at most once for the lifetime of the process.\n"
     ]
    },
    {
     "name": "stdout",
     "output_type": "stream",
     "text": [
      "767/767 [==============================] - ETA: 0s - loss: 0.8852 - accuracy: 0.7342\n",
      "Epoch 1: val_accuracy improved from -inf to 0.73567, saving model to cnn_models/cnn_model.h5\n"
     ]
    },
    {
     "name": "stderr",
     "output_type": "stream",
     "text": [
      "/home/mrroy/.local/lib/python3.10/site-packages/keras/src/engine/training.py:3079: UserWarning: You are saving your model as an HDF5 file via `model.save()`. This file format is considered legacy. We recommend using instead the native Keras format, e.g. `model.save('my_model.keras')`.\n",
      "  saving_api.save_model(\n",
      "2023-10-27 21:54:02.624666: W tensorflow/tsl/framework/cpu_allocator_impl.cc:83] Allocation of 33554432 exceeds 10% of free system memory.\n",
      "2023-10-27 21:54:02.743354: W tensorflow/tsl/framework/cpu_allocator_impl.cc:83] Allocation of 33554432 exceeds 10% of free system memory.\n",
      "2023-10-27 21:54:02.789328: W tensorflow/tsl/framework/cpu_allocator_impl.cc:83] Allocation of 33554432 exceeds 10% of free system memory.\n"
     ]
    },
    {
     "name": "stdout",
     "output_type": "stream",
     "text": [
      "767/767 [==============================] - 180s 229ms/step - loss: 0.8852 - accuracy: 0.7342 - val_loss: 0.8749 - val_accuracy: 0.7357\n",
      "Epoch 2/100\n",
      "767/767 [==============================] - ETA: 0s - loss: 0.8748 - accuracy: 0.7349\n",
      "Epoch 2: val_accuracy did not improve from 0.73567\n",
      "767/767 [==============================] - 176s 230ms/step - loss: 0.8748 - accuracy: 0.7349 - val_loss: 0.8707 - val_accuracy: 0.7342\n",
      "Epoch 3/100\n",
      "767/767 [==============================] - ETA: 0s - loss: 0.8735 - accuracy: 0.7351\n",
      "Epoch 3: val_accuracy did not improve from 0.73567\n",
      "767/767 [==============================] - 172s 224ms/step - loss: 0.8735 - accuracy: 0.7351 - val_loss: 0.8737 - val_accuracy: 0.7345\n",
      "Epoch 4/100\n",
      "767/767 [==============================] - ETA: 0s - loss: 0.8708 - accuracy: 0.7352\n",
      "Epoch 4: val_accuracy did not improve from 0.73567\n",
      "767/767 [==============================] - 172s 225ms/step - loss: 0.8708 - accuracy: 0.7352 - val_loss: 0.8709 - val_accuracy: 0.7342\n",
      "Epoch 5/100\n",
      "767/767 [==============================] - ETA: 0s - loss: 0.8701 - accuracy: 0.7350\n",
      "Epoch 5: val_accuracy did not improve from 0.73567\n",
      "767/767 [==============================] - 174s 226ms/step - loss: 0.8701 - accuracy: 0.7350 - val_loss: 0.8690 - val_accuracy: 0.7348\n",
      "Epoch 6/100\n",
      "767/767 [==============================] - ETA: 0s - loss: 0.8694 - accuracy: 0.7350\n",
      "Epoch 6: val_accuracy did not improve from 0.73567\n",
      "767/767 [==============================] - 172s 224ms/step - loss: 0.8694 - accuracy: 0.7350 - val_loss: 0.8687 - val_accuracy: 0.7357\n",
      "Epoch 7/100\n",
      "767/767 [==============================] - ETA: 0s - loss: 0.8696 - accuracy: 0.7350\n",
      "Epoch 7: val_accuracy did not improve from 0.73567\n",
      "767/767 [==============================] - 187s 244ms/step - loss: 0.8696 - accuracy: 0.7350 - val_loss: 0.8705 - val_accuracy: 0.7345\n",
      "Epoch 8/100\n",
      "767/767 [==============================] - ETA: 0s - loss: 0.8699 - accuracy: 0.7349\n",
      "Epoch 8: val_accuracy did not improve from 0.73567\n",
      "767/767 [==============================] - 171s 223ms/step - loss: 0.8699 - accuracy: 0.7349 - val_loss: 0.8716 - val_accuracy: 0.7337\n",
      "Epoch 9/100\n",
      "767/767 [==============================] - ETA: 0s - loss: 0.8700 - accuracy: 0.7350\n",
      "Epoch 9: val_accuracy did not improve from 0.73567\n",
      "767/767 [==============================] - 167s 217ms/step - loss: 0.8700 - accuracy: 0.7350 - val_loss: 0.8725 - val_accuracy: 0.7331\n",
      "Epoch 9: early stopping\n"
     ]
    }
   ],
   "source": [
    "from keras.callbacks import ModelCheckpoint, EarlyStopping\n",
    "STEP_SIZE_TRAIN = train_images.n//train_images.batch_size\n",
    "STEP_SIZE_VALID = validation_images.n//validation_images.batch_size\n",
    "    \n",
    "model.compile(optimizer='adam', loss='categorical_crossentropy', metrics=['accuracy'])\n",
    "\n",
    "filepath='cnn_models/cnn_model.h5'\n",
    "checkpoint = ModelCheckpoint(filepath, monitor='val_accuracy', verbose=1, save_best_only=True, mode='max')\n",
    "callbacks_list = [checkpoint]\n",
    "\n",
    "# Define the EarlyStopping callback\n",
    "early_stopping = EarlyStopping(monitor='val_accuracy', patience=8, mode='max', verbose=1)\n",
    "\n",
    "# Create a list of callbacks, including ModelCheckpoint and EarlyStopping\n",
    "callbacks_list = [checkpoint, early_stopping]\n",
    "\n",
    "# Start training\n",
    "history = model.fit_generator(generator=train_images,\n",
    "                               steps_per_epoch=STEP_SIZE_TRAIN,\n",
    "                               validation_data=validation_images,\n",
    "                               validation_steps=STEP_SIZE_VALID,\n",
    "                               callbacks=callbacks_list,\n",
    "                               epochs=100)"
   ]
  },
  {
   "cell_type": "code",
   "execution_count": 6,
   "metadata": {},
   "outputs": [
    {
     "data": {
      "image/png": "[encoded data removed]",
      "text/plain": [
       "<Figure size 432x288 with 1 Axes>"
      ]
     },
     "metadata": {
      "needs_background": "light"
     },
     "output_type": "display_data"
    },
    {
     "data": {
      "image/png": "[encoded data removed]",
      "text/plain": [
       "<Figure size 432x288 with 1 Axes>"
      ]
     },
     "metadata": {
      "needs_background": "light"
     },
     "output_type": "display_data"
    }
   ],
   "source": [
    "    import matplotlib.pyplot as plt\n",
    "    plt.plot(history.history['accuracy'])\n",
    "    plt.plot(history.history['val_accuracy'])\n",
    "    plt.title('model accuracy')\n",
    "    plt.ylabel('accuracy')\n",
    "    plt.xlabel('epoch')\n",
    "    plt.legend(['train', 'validation'], loc='lower right')\n",
    "    \n",
    "    plt.show()\n",
    "    plt.plot(history.history['loss'])\n",
    "    plt.plot(history.history['val_loss'])\n",
    "    plt.title('model loss')\n",
    "    plt.ylabel('loss')\n",
    "    plt.xlabel('epoch')\n",
    "    plt.legend(['train', 'validation'], loc='upper right')\n",
    "    \n",
    "    plt.show()"
   ]
  },
  {
   "cell_type": "code",
   "execution_count": 7,
   "metadata": {},
   "outputs": [
    {
     "name": "stderr",
     "output_type": "stream",
     "text": [
      "2023-10-27 22:17:14.907518: W tensorflow/tsl/framework/cpu_allocator_impl.cc:83] Allocation of 33554432 exceeds 10% of free system memory.\n",
      "2023-10-27 22:17:15.104255: W tensorflow/tsl/framework/cpu_allocator_impl.cc:83] Allocation of 33554432 exceeds 10% of free system memory.\n"
     ]
    }
   ],
   "source": [
    "from keras.models import load_model\n",
    "m = load_model('cnn_models/cnn_model.h5')"
   ]
  },
  {
   "cell_type": "code",
   "execution_count": 8,
   "metadata": {},
   "outputs": [
    {
     "name": "stdout",
     "output_type": "stream",
     "text": [
      "Found 7019 images belonging to 5 classes.\n"
     ]
    },
    {
     "name": "stderr",
     "output_type": "stream",
     "text": [
      "/tmp/ipykernel_7712/2302545426.py:3: UserWarning: `Model.evaluate_generator` is deprecated and will be removed in a future version. Please use `Model.evaluate`, which supports generators.\n",
      "  p = m.evaluate_generator(test_images, verbose=1, steps=test_images.n//test_images.batch_size)\n"
     ]
    },
    {
     "name": "stdout",
     "output_type": "stream",
     "text": [
      "219/219 [==============================] - 41s 186ms/step - loss: 0.8748 - accuracy: 0.7352\n",
      "[0.8747986555099487, 0.7351598143577576]\n"
     ]
    }
   ],
   "source": [
    "test_datagen = ImageDataGenerator(rescale=1.0/255)\n",
    "test_images = test_datagen.flow_from_directory('/home/mrroy/Dataset/CLASS/test/',  color_mode = 'grayscale', target_size = (28, 28), batch_size = 32)\n",
    "p = m.evaluate_generator(test_images, verbose=1, steps=test_images.n//test_images.batch_size)\n",
    "print(p)"
   ]
  },
  {
   "cell_type": "code",
   "execution_count": 9,
   "metadata": {},
   "outputs": [
    {
     "name": "stdout",
     "output_type": "stream",
     "text": [
      "Found 7019 images belonging to 5 classes.\n"
     ]
    }
   ],
   "source": [
    "test_datagen = ImageDataGenerator(rescale=1.0/255)\n",
    "test_images = test_datagen.flow_from_directory('/home/mrroy/Dataset/CLASS/test/',  color_mode = 'grayscale', target_size = (28, 28), batch_size = 32, shuffle = False)"
   ]
  },
  {
   "cell_type": "code",
   "execution_count": 10,
   "metadata": {},
   "outputs": [
    {
     "name": "stderr",
     "output_type": "stream",
     "text": [
      "/tmp/ipykernel_7712/404438757.py:1: UserWarning: `Model.predict_generator` is deprecated and will be removed in a future version. Please use `Model.predict`, which supports generators.\n",
      "  y_pred = m.predict_generator(generator = test_images, verbose = 1)\n"
     ]
    },
    {
     "name": "stdout",
     "output_type": "stream",
     "text": [
      "220/220 [==============================] - 38s 174ms/step\n"
     ]
    }
   ],
   "source": [
    "y_pred = m.predict_generator(generator = test_images, verbose = 1)\n",
    "y_pred = y_pred.argmax(axis=-1)"
   ]
  },
  {
   "cell_type": "code",
   "execution_count": 11,
   "metadata": {},
   "outputs": [
    {
     "name": "stdout",
     "output_type": "stream",
     "text": [
      "              precision    recall  f1-score   support\n",
      "\n",
      "           0       0.74      1.00      0.85      5160\n",
      "           1       0.00      0.00      0.00       487\n",
      "           2       0.00      0.00      0.00      1057\n",
      "           3       0.00      0.00      0.00       174\n",
      "           4       0.00      0.00      0.00       141\n",
      "\n",
      "    accuracy                           0.74      7019\n",
      "   macro avg       0.15      0.20      0.17      7019\n",
      "weighted avg       0.54      0.74      0.62      7019\n",
      "\n"
     ]
    },
    {
     "name": "stderr",
     "output_type": "stream",
     "text": [
      "/home/mrroy/.local/lib/python3.10/site-packages/sklearn/metrics/_classification.py:1469: UndefinedMetricWarning: Precision and F-score are ill-defined and being set to 0.0 in labels with no predicted samples. Use `zero_division` parameter to control this behavior.\n",
      "  _warn_prf(average, modifier, msg_start, len(result))\n",
      "/home/mrroy/.local/lib/python3.10/site-packages/sklearn/metrics/_classification.py:1469: UndefinedMetricWarning: Precision and F-score are ill-defined and being set to 0.0 in labels with no predicted samples. Use `zero_division` parameter to control this behavior.\n",
      "  _warn_prf(average, modifier, msg_start, len(result))\n",
      "/home/mrroy/.local/lib/python3.10/site-packages/sklearn/metrics/_classification.py:1469: UndefinedMetricWarning: Precision and F-score are ill-defined and being set to 0.0 in labels with no predicted samples. Use `zero_division` parameter to control this behavior.\n",
      "  _warn_prf(average, modifier, msg_start, len(result))\n"
     ]
    }
   ],
   "source": [
    "from sklearn.metrics import classification_report, precision_score, confusion_matrix, accuracy_score, f1_score, recall_score\n",
    "print(classification_report(test_images.classes[test_images.index_array], y_pred))"
   ]
  },
  {
   "cell_type": "code",
   "execution_count": 12,
   "metadata": {},
   "outputs": [
    {
     "name": "stdout",
     "output_type": "stream",
     "text": [
      "precision\n",
      "54.044178339049644\n",
      "recall\n",
      "73.51474569026927\n",
      "f1\n",
      "62.29347036075039\n",
      "accuracy\n",
      "73.51474569026927\n"
     ]
    },
    {
     "name": "stderr",
     "output_type": "stream",
     "text": [
      "/home/mrroy/.local/lib/python3.10/site-packages/sklearn/metrics/_classification.py:1469: UndefinedMetricWarning: Precision is ill-defined and being set to 0.0 in labels with no predicted samples. Use `zero_division` parameter to control this behavior.\n",
      "  _warn_prf(average, modifier, msg_start, len(result))\n"
     ]
    }
   ],
   "source": [
    "print('precision')\n",
    "p1 = precision_score(test_images.classes[test_images.index_array], y_pred, average = 'weighted')\n",
    "print(p1*100)\n",
    "print('recall')\n",
    "r1 = recall_score(test_images.classes[test_images.index_array], y_pred, average = 'weighted')\n",
    "print(r1*100)\n",
    "print('f1')\n",
    "f11 = f1_score(test_images.classes[test_images.index_array], y_pred, average = 'weighted')\n",
    "print(f11*100)\n",
    "print('accuracy')\n",
    "a1 = accuracy_score(test_images.classes[test_images.index_array], y_pred)\n",
    "print(a1*100)"
   ]
  },
  {
   "cell_type": "code",
   "execution_count": null,
   "metadata": {},
   "outputs": [],
   "source": []
  }
 ],
 "metadata": {
  "kernelspec": {
   "display_name": "Python 3 (ipykernel)",
   "language": "python",
   "name": "python3"
  },
  "language_info": {
   "codemirror_mode": {
    "name": "ipython",
    "version": 3
   },
   "file_extension": ".py",
   "mimetype": "text/x-python",
   "name": "python",
   "nbconvert_exporter": "python",
   "pygments_lexer": "ipython3",
   "version": "3.10.12"
  }
 },
 "nbformat": 4,
 "nbformat_minor": 4
}
