{
 "cells": [
  {
   "cell_type": "code",
   "execution_count": 1,
   "id": "7b908160-aa26-431e-aa41-6223db98634c",
   "metadata": {},
   "outputs": [],
   "source": [
    "# for generated gan image crop\n",
    "import os\n",
    "import glob\n",
    "from PIL import Image\n",
    "Image.MAX_IMAGE_PIXELS = None # to avoid image size warning\n",
    "\n",
    "imgdir ='/home/mrroy/Dataset/Gan_Result/'\n",
    "# if you want file of a specific extension (.png):\n",
    "filelist = [f for f in glob.glob(imgdir + \"**.jpg\", recursive=True)]\n",
    "savedir = '/home/mrroy/Dataset/Gan_Result/Crop_Gan_Result/'\n",
    "start_pos = start_x, start_y = (0, 0)\n",
    "cropped_image_size = w, h = (29,29 )\n",
    "\n",
    "for file in filelist:\n",
    "    img = Image.open(file)\n",
    "    width, height = img.size\n",
    "\n",
    "    frame_num = 1\n",
    "    for col_i in range(1, width, w):\n",
    "        for row_i in range(1, height, h):\n",
    "            crop = img.crop((col_i, row_i, col_i + w, row_i + h))\n",
    "            name = os.path.basename(file)\n",
    "            name = os.path.splitext(name)[0]\n",
    "            save_to= os.path.join(savedir, name+\"_{:03}.jpg\")\n",
    "            crop.save(save_to.format(frame_num))\n",
    "            frame_num += 1"
   ]
  },
  {
   "cell_type": "code",
   "execution_count": 2,
   "id": "5a8e96e9-ef23-4cc4-92db-cfe3bd0edade",
   "metadata": {},
   "outputs": [
    {
     "data": {
      "text/plain": [
       "['/home/mrroy/Dataset/Gan_Result/111_train-299.jpg',\n",
       " '/home/mrroy/Dataset/Gan_Result/111_train-99.jpg',\n",
       " '/home/mrroy/Dataset/Gan_Result/111_train-899.jpg',\n",
       " '/home/mrroy/Dataset/Gan_Result/111_train-699.jpg',\n",
       " '/home/mrroy/Dataset/Gan_Result/111_train-199.jpg',\n",
       " '/home/mrroy/Dataset/Gan_Result/111_train-399.jpg',\n",
       " '/home/mrroy/Dataset/Gan_Result/111_train-999.jpg',\n",
       " '/home/mrroy/Dataset/Gan_Result/111_train-499.jpg',\n",
       " '/home/mrroy/Dataset/Gan_Result/111_train-799.jpg',\n",
       " '/home/mrroy/Dataset/Gan_Result/111_train-599.jpg']"
      ]
     },
     "execution_count": 2,
     "metadata": {},
     "output_type": "execute_result"
    }
   ],
   "source": [
    "filelist"
   ]
  },
  {
   "cell_type": "code",
   "execution_count": 3,
   "id": "92073e5b-bf39-425d-9a97-816b5f28b10d",
   "metadata": {},
   "outputs": [
    {
     "data": {
      "text/plain": [
       "['/home/mrroy/Dataset/Gan_Result/111_train-299.jpg',\n",
       " '/home/mrroy/Dataset/Gan_Result/111_train-99.jpg',\n",
       " '/home/mrroy/Dataset/Gan_Result/111_train-899.jpg',\n",
       " '/home/mrroy/Dataset/Gan_Result/111_train-699.jpg',\n",
       " '/home/mrroy/Dataset/Gan_Result/111_train-199.jpg',\n",
       " '/home/mrroy/Dataset/Gan_Result/111_train-399.jpg',\n",
       " '/home/mrroy/Dataset/Gan_Result/111_train-999.jpg',\n",
       " '/home/mrroy/Dataset/Gan_Result/111_train-499.jpg',\n",
       " '/home/mrroy/Dataset/Gan_Result/111_train-799.jpg',\n",
       " '/home/mrroy/Dataset/Gan_Result/111_train-599.jpg']"
      ]
     },
     "execution_count": 3,
     "metadata": {},
     "output_type": "execute_result"
    }
   ],
   "source": [
    "filelist"
   ]
  },
  {
   "cell_type": "code",
   "execution_count": 4,
   "id": "42e9dcbc-be16-436e-b2fe-0f70ddc6b1f6",
   "metadata": {},
   "outputs": [
    {
     "name": "stdout",
     "output_type": "stream",
     "text": [
      "1 GPU(s) available\n",
      "GPU 0: NVIDIA GeForce GTX 1660 SUPER\n"
     ]
    }
   ],
   "source": [
    "import pycuda.driver as cuda\n",
    "\n",
    "try:\n",
    "    cuda.init()\n",
    "    # Get the number of available GPUs\n",
    "    num_gpus = cuda.Device.count()\n",
    "    if num_gpus > 0:\n",
    "        print(f\"{num_gpus} GPU(s) available\")\n",
    "        for i in range(num_gpus):\n",
    "            device = cuda.Device(i)\n",
    "            print(f\"GPU {i}: {device.name()}\")\n",
    "    else:\n",
    "        print(\"No GPUs available.\")\n",
    "except Exception as e:\n",
    "    print(f\"Error: {e}\")\n"
   ]
  },
  {
   "cell_type": "code",
   "execution_count": 5,
   "id": "a71a74b0-3e32-4c58-9f5a-6a9a561b3753",
   "metadata": {},
   "outputs": [
    {
     "name": "stdout",
     "output_type": "stream",
     "text": [
      "1 GPU(s) available\n",
      "GPU 0: NVIDIA GeForce GTX 1660 SUPER\n"
     ]
    }
   ],
   "source": [
    "import pycuda.driver as cuda\n",
    "\n",
    "try:\n",
    "    cuda.init()\n",
    "    # Get the number of available GPUs\n",
    "    num_gpus = cuda.Device.count()\n",
    "    if num_gpus > 0:\n",
    "        print(f\"{num_gpus} GPU(s) available\")\n",
    "        for i in range(num_gpus):\n",
    "            device = cuda.Device(i)\n",
    "            print(f\"GPU {i}: {device.name()}\")\n",
    "    else:\n",
    "        print(\"No GPUs available.\")\n",
    "except Exception as e:\n",
    "    print(f\"Error: {e}\")\n"
   ]
  },
  {
   "cell_type": "code",
   "execution_count": 6,
   "id": "59759457-5671-4d61-9763-ba2dc07fde40",
   "metadata": {},
   "outputs": [
    {
     "name": "stdout",
     "output_type": "stream",
     "text": [
      "GPU Usage: 17%, Memory Usage: 9%\n"
     ]
    }
   ],
   "source": [
    "import pynvml\n",
    "\n",
    "pynvml.nvmlInit()\n",
    "\n",
    "try:\n",
    "    # Assuming you have at least one GPU\n",
    "    handle = pynvml.nvmlDeviceGetHandleByIndex(0)\n",
    "    \n",
    "    gpu_info = pynvml.nvmlDeviceGetUtilizationRates(handle)\n",
    "    print(f\"GPU Usage: {gpu_info.gpu}%, Memory Usage: {gpu_info.memory}%\")\n",
    "    \n",
    "except pynvml.NVMLError as e:\n",
    "    print(f\"Error: {e}\")\n",
    "    \n",
    "pynvml.nvmlShutdown()\n"
   ]
  },
  {
   "cell_type": "code",
   "execution_count": null,
   "id": "d50885e6-a648-4c44-a5d8-30265eedacc1",
   "metadata": {},
   "outputs": [],
   "source": []
  }
 ],
 "metadata": {
  "kernelspec": {
   "display_name": "Python 3 (ipykernel)",
   "language": "python",
   "name": "python3"
  },
  "language_info": {
   "codemirror_mode": {
    "name": "ipython",
    "version": 3
   },
   "file_extension": ".py",
   "mimetype": "text/x-python",
   "name": "python",
   "nbconvert_exporter": "python",
   "pygments_lexer": "ipython3",
   "version": "3.10.12"
  }
 },
 "nbformat": 4,
 "nbformat_minor": 5
}
